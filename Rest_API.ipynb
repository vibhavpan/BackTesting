{
  "nbformat": 4,
  "nbformat_minor": 0,
  "metadata": {
    "colab": {
      "provenance": [],
      "authorship_tag": "ABX9TyNO3M8pKZ90geZIXbhSqGZl",
      "include_colab_link": true
    },
    "kernelspec": {
      "name": "python3",
      "display_name": "Python 3"
    },
    "language_info": {
      "name": "python"
    }
  },
  "cells": [
    {
      "cell_type": "markdown",
      "metadata": {
        "id": "view-in-github",
        "colab_type": "text"
      },
      "source": [
        "<a href=\"https://colab.research.google.com/github/vibhavpan/BackTesting/blob/main/Rest_API.ipynb\" target=\"_parent\"><img src=\"https://colab.research.google.com/assets/colab-badge.svg\" alt=\"Open In Colab\"/></a>"
      ]
    },
    {
      "cell_type": "code",
      "execution_count": 6,
      "metadata": {
        "colab": {
          "base_uri": "https://localhost:8080/"
        },
        "id": "fbZzyLILNll-",
        "outputId": "4b7c9a58-831d-4ec1-951d-72b612d77b0a"
      },
      "outputs": [
        {
          "output_type": "stream",
          "name": "stdout",
          "text": [
            "106728.0\n"
          ]
        }
      ],
      "source": [
        "import requests\n",
        "import json\n",
        "\n",
        "def get_crypto_data(symbol='btc-usd'):\n",
        "  url=f'https://api.coingecko.com/api/v3/simple/price?ids={symbol}&vs_currencies=usd'\n",
        "  try:\n",
        "    response=requests.get(url,timeout=10)\n",
        "    response.raise_for_status()\n",
        "    data=response.json()\n",
        "    return float(data[symbol]['usd'])\n",
        "\n",
        "  except requests.exceptions.RequestException as e:\n",
        "    print(f'API error {e}')\n",
        "    return None\n",
        "\n",
        "print(get_crypto_data('bitcoin'))"
      ]
    },
    {
      "cell_type": "code",
      "source": [
        "import asyncio\n",
        "import websockets\n",
        "import json\n",
        "\n",
        "async def binance_price_feed(symbol='btcusd'):\n",
        "  uri=f'wss://stream.binance.com:9443/ws/{symbol}@trade'\n",
        "  async with websockets.connect(uri) as websocket:\n",
        "    print(f'Connected to Binance {symbol} feed')\n",
        "    while True:\n",
        "      try:\n",
        "        message=await asyncio.wait_for(websocket.recv(),timeout=10)\n",
        "        data=json.loads(message)\n",
        "        price=float(data['p'])\n",
        "        print(f'Realtime price {price:.2f}')\n",
        "      except (asyncio.TimeoutError, websockets.exceptions.ConnectionClosed) as e:\n",
        "        print('Websocket error')\n",
        "        break\n",
        "\n",
        "\n",
        "task=asyncio.create_task(binance_price_feed())\n",
        "task\n",
        "#asyncio.get_event_loop().run_until_complete(binance_price_feed())"
      ],
      "metadata": {
        "colab": {
          "base_uri": "https://localhost:8080/"
        },
        "id": "b_bbsfa1OuPc",
        "outputId": "bdae15c5-fbaf-401a-c931-40a0835ed344"
      },
      "execution_count": 25,
      "outputs": [
        {
          "output_type": "execute_result",
          "data": {
            "text/plain": [
              "<Task pending name='Task-5' coro=<binance_price_feed() running at /tmp/ipython-input-25-4114344346.py:5>>"
            ]
          },
          "metadata": {},
          "execution_count": 25
        }
      ]
    },
    {
      "cell_type": "code",
      "source": [],
      "metadata": {
        "id": "fxAboKoSQJ90"
      },
      "execution_count": null,
      "outputs": []
    }
  ]
}