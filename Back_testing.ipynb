{
  "nbformat": 4,
  "nbformat_minor": 0,
  "metadata": {
    "colab": {
      "provenance": [],
      "authorship_tag": "ABX9TyPU3eBXww/eiixaz1J4E3n0",
      "include_colab_link": true
    },
    "kernelspec": {
      "name": "python3",
      "display_name": "Python 3"
    },
    "language_info": {
      "name": "python"
    }
  },
  "cells": [
    {
      "cell_type": "markdown",
      "metadata": {
        "id": "view-in-github",
        "colab_type": "text"
      },
      "source": [
        "<a href=\"https://colab.research.google.com/github/vibhavpan/BackTesting/blob/main/Back_testing.ipynb\" target=\"_parent\"><img src=\"https://colab.research.google.com/assets/colab-badge.svg\" alt=\"Open In Colab\"/></a>"
      ]
    },
    {
      "cell_type": "code",
      "execution_count": 23,
      "metadata": {
        "colab": {
          "base_uri": "https://localhost:8080/"
        },
        "id": "vyFD7f5C8Vyj",
        "outputId": "480af420-4f0d-4dda-fc8d-721717fa827c"
      },
      "outputs": [
        {
          "output_type": "stream",
          "name": "stdout",
          "text": [
            "Requirement already satisfied: yfinance in /usr/local/lib/python3.11/dist-packages (0.2.63)\n",
            "Requirement already satisfied: pandas in /usr/local/lib/python3.11/dist-packages (2.2.2)\n",
            "Requirement already satisfied: numpy in /usr/local/lib/python3.11/dist-packages (2.0.2)\n",
            "Requirement already satisfied: matplotlib in /usr/local/lib/python3.11/dist-packages (3.10.0)\n",
            "Requirement already satisfied: requests>=2.31 in /usr/local/lib/python3.11/dist-packages (from yfinance) (2.32.3)\n",
            "Requirement already satisfied: multitasking>=0.0.7 in /usr/local/lib/python3.11/dist-packages (from yfinance) (0.0.11)\n",
            "Requirement already satisfied: platformdirs>=2.0.0 in /usr/local/lib/python3.11/dist-packages (from yfinance) (4.3.8)\n",
            "Requirement already satisfied: pytz>=2022.5 in /usr/local/lib/python3.11/dist-packages (from yfinance) (2025.2)\n",
            "Requirement already satisfied: frozendict>=2.3.4 in /usr/local/lib/python3.11/dist-packages (from yfinance) (2.4.6)\n",
            "Requirement already satisfied: peewee>=3.16.2 in /usr/local/lib/python3.11/dist-packages (from yfinance) (3.18.1)\n",
            "Requirement already satisfied: beautifulsoup4>=4.11.1 in /usr/local/lib/python3.11/dist-packages (from yfinance) (4.13.4)\n",
            "Requirement already satisfied: curl_cffi>=0.7 in /usr/local/lib/python3.11/dist-packages (from yfinance) (0.11.4)\n",
            "Requirement already satisfied: protobuf>=3.19.0 in /usr/local/lib/python3.11/dist-packages (from yfinance) (5.29.5)\n",
            "Requirement already satisfied: websockets>=13.0 in /usr/local/lib/python3.11/dist-packages (from yfinance) (15.0.1)\n",
            "Requirement already satisfied: python-dateutil>=2.8.2 in /usr/local/lib/python3.11/dist-packages (from pandas) (2.9.0.post0)\n",
            "Requirement already satisfied: tzdata>=2022.7 in /usr/local/lib/python3.11/dist-packages (from pandas) (2025.2)\n",
            "Requirement already satisfied: contourpy>=1.0.1 in /usr/local/lib/python3.11/dist-packages (from matplotlib) (1.3.2)\n",
            "Requirement already satisfied: cycler>=0.10 in /usr/local/lib/python3.11/dist-packages (from matplotlib) (0.12.1)\n",
            "Requirement already satisfied: fonttools>=4.22.0 in /usr/local/lib/python3.11/dist-packages (from matplotlib) (4.58.4)\n",
            "Requirement already satisfied: kiwisolver>=1.3.1 in /usr/local/lib/python3.11/dist-packages (from matplotlib) (1.4.8)\n",
            "Requirement already satisfied: packaging>=20.0 in /usr/local/lib/python3.11/dist-packages (from matplotlib) (24.2)\n",
            "Requirement already satisfied: pillow>=8 in /usr/local/lib/python3.11/dist-packages (from matplotlib) (11.2.1)\n",
            "Requirement already satisfied: pyparsing>=2.3.1 in /usr/local/lib/python3.11/dist-packages (from matplotlib) (3.2.3)\n",
            "Requirement already satisfied: soupsieve>1.2 in /usr/local/lib/python3.11/dist-packages (from beautifulsoup4>=4.11.1->yfinance) (2.7)\n",
            "Requirement already satisfied: typing-extensions>=4.0.0 in /usr/local/lib/python3.11/dist-packages (from beautifulsoup4>=4.11.1->yfinance) (4.14.0)\n",
            "Requirement already satisfied: cffi>=1.12.0 in /usr/local/lib/python3.11/dist-packages (from curl_cffi>=0.7->yfinance) (1.17.1)\n",
            "Requirement already satisfied: certifi>=2024.2.2 in /usr/local/lib/python3.11/dist-packages (from curl_cffi>=0.7->yfinance) (2025.6.15)\n",
            "Requirement already satisfied: six>=1.5 in /usr/local/lib/python3.11/dist-packages (from python-dateutil>=2.8.2->pandas) (1.17.0)\n",
            "Requirement already satisfied: charset-normalizer<4,>=2 in /usr/local/lib/python3.11/dist-packages (from requests>=2.31->yfinance) (3.4.2)\n",
            "Requirement already satisfied: idna<4,>=2.5 in /usr/local/lib/python3.11/dist-packages (from requests>=2.31->yfinance) (3.10)\n",
            "Requirement already satisfied: urllib3<3,>=1.21.1 in /usr/local/lib/python3.11/dist-packages (from requests>=2.31->yfinance) (2.4.0)\n",
            "Requirement already satisfied: pycparser in /usr/local/lib/python3.11/dist-packages (from cffi>=1.12.0->curl_cffi>=0.7->yfinance) (2.22)\n"
          ]
        }
      ],
      "source": [
        "!pip install yfinance pandas numpy matplotlib\n"
      ]
    },
    {
      "cell_type": "code",
      "source": [
        "import yfinance as yf\n",
        "import pandas as pd\n",
        "import numpy as np\n",
        "import matplotlib.pyplot as plt\n"
      ],
      "metadata": {
        "id": "uH9WL3YBHvND"
      },
      "execution_count": 25,
      "outputs": []
    },
    {
      "cell_type": "code",
      "source": [
        "#download historical data\n",
        "def fetch_data(ticker,start_date,end_date):\n",
        "  '''\n",
        "  Fetch historical stock data from Yahoo finance\n",
        "  '''\n",
        "  data=yf.download(ticker,start=start_date,end=end_date)\n",
        "  return data\n",
        "\n",
        "data=fetch_data('SPY','2010-01-01','2020-12-31')\n",
        "print('Data head: ')\n",
        "print(data.head())"
      ],
      "metadata": {
        "colab": {
          "base_uri": "https://localhost:8080/"
        },
        "id": "RbUg8FsIIKrZ",
        "outputId": "ba26a784-1ef4-4996-adf3-13d9bdd54528"
      },
      "execution_count": 26,
      "outputs": [
        {
          "output_type": "stream",
          "name": "stderr",
          "text": [
            "/tmp/ipython-input-26-2638824292.py:6: FutureWarning: YF.download() has changed argument auto_adjust default to True\n",
            "  data=yf.download(ticker,start=start_date,end=end_date)\n",
            "[*********************100%***********************]  1 of 1 completed"
          ]
        },
        {
          "output_type": "stream",
          "name": "stdout",
          "text": [
            "Data head: \n",
            "Price           Close       High        Low       Open     Volume\n",
            "Ticker            SPY        SPY        SPY        SPY        SPY\n",
            "Date                                                             \n",
            "2010-01-04  85.515656  85.560928  84.142335  84.791267  118944600\n",
            "2010-01-05  85.742012  85.779743  85.153447  85.462824  111579900\n",
            "2010-01-06  85.802353  86.013632  85.591074  85.658982  116074400\n",
            "2010-01-07  86.164604  86.270244  85.402485  85.643948  131091100\n",
            "2010-01-08  86.451302  86.489032  85.764644  85.938192  126402800\n"
          ]
        },
        {
          "output_type": "stream",
          "name": "stderr",
          "text": [
            "\n"
          ]
        }
      ]
    },
    {
      "cell_type": "code",
      "source": [
        "#Implmenet trading strategy\n",
        "\n",
        "def moving_average_strategy(data,short_window=50,long_window=200):\n",
        "  '''\n",
        "  Simple Moving Average Crossover Stragey:\n",
        "    -Buy when short MA crosses above long MA\n",
        "    -Sell when short MA crosses below long MA\n",
        "\n",
        "    Return:\n",
        "      DataFrame with signals and positions\n",
        "  '''\n",
        "  df=data.copy()\n",
        "\n",
        "  #calculate moving averages\n",
        "  df['short_ma']=df['Close'].rolling(window=short_window).mean()\n",
        "  df['long_ma']=df['Close'].rolling(window=long_window).mean()\n",
        "\n",
        "  #Generate signals (1=buy,-1=sell,0=hold)\n",
        "  df['signal']=0\n",
        "  df.loc[df['short_ma']>df['long_ma'],'signal']=1\n",
        "  df.loc[df['short_ma']<df['long_ma'],'signal']=-1\n",
        "\n",
        "  #forward fill positions to hold until next signal\n",
        "  df['position']=df['signal'].diff()\n",
        "\n",
        "  #Remove NaN values created by using averages\n",
        "  df=df.dropna()\n",
        "\n",
        "  return df\n",
        "\n",
        "strategy_df=moving_average_strategy(data)\n",
        "print(strategy_df)\n",
        "#print('\\nStrategy Signals:')\n",
        "#print(strategy_df[['Close','short_ma','long_ma','signal','position']])\n"
      ],
      "metadata": {
        "colab": {
          "base_uri": "https://localhost:8080/"
        },
        "id": "ZOC5LeuGIpQL",
        "outputId": "a36ea646-42a0-4d83-e6fa-3e185bdc99a0"
      },
      "execution_count": 33,
      "outputs": [
        {
          "output_type": "stream",
          "name": "stdout",
          "text": [
            "Price            Close        High         Low        Open     Volume  \\\n",
            "Ticker             SPY         SPY         SPY         SPY        SPY   \n",
            "Date                                                                    \n",
            "2010-10-18   90.526726   90.825216   89.784326   90.113431  141204800   \n",
            "2010-10-19   89.340446   90.197646   88.797036   89.692511  280604700   \n",
            "2010-10-20   90.212959   90.649214   89.447600   89.501174  200051800   \n",
            "2010-10-21   90.411957   91.146702   89.707827   90.618607  221585500   \n",
            "2010-10-22   90.580322   90.718087   90.312448   90.549707  108212400   \n",
            "...                ...         ...         ...         ...        ...   \n",
            "2020-12-23  345.085876  347.010467  344.757280  345.752438   46201400   \n",
            "2020-12-24  346.428345  346.456508  344.973169  345.564608   26457900   \n",
            "2020-12-28  349.404449  349.798742  348.371731  349.000731   39000400   \n",
            "2020-12-29  348.737915  351.122552  348.146447  350.944172   53680500   \n",
            "2020-12-30  349.235535  350.277651  348.841242  349.564131   49455300   \n",
            "\n",
            "Price         short_ma     long_ma signal position  \n",
            "Ticker                                              \n",
            "Date                                                \n",
            "2010-10-18   85.403148   85.205997      1      1.0  \n",
            "2010-10-19   85.469608   85.225121      1      0.0  \n",
            "2010-10-20   85.562805   85.247476      1      0.0  \n",
            "2010-10-21   85.706877   85.270524      1      0.0  \n",
            "2010-10-22   85.864518   85.292602      1      0.0  \n",
            "...                ...         ...    ...      ...  \n",
            "2020-12-23  332.313120  297.824280      1      0.0  \n",
            "2020-12-24  332.736472  298.413107      1      0.0  \n",
            "2020-12-28  333.227386  298.919077      1      0.0  \n",
            "2020-12-29  333.708896  299.557515      1      0.0  \n",
            "2020-12-30  334.299078  300.138765      1      0.0  \n",
            "\n",
            "[2569 rows x 9 columns]\n"
          ]
        }
      ]
    },
    {
      "cell_type": "code",
      "source": [
        "#Backtest performance\n",
        "def backtest_strategy(df,initial_capital=10000):\n",
        "  '''\n",
        "    Backtest the strategy:\n",
        "      - calculate daily returns\n",
        "      - simulate trades based on signal\n",
        "      - track portfolio value\n",
        "  '''\n",
        "  backtest_df=df.copy()\n",
        "\n",
        "  #calculate daily returns\n",
        "  #.pct_change() Computes the fractional change from the immediately previous row by default.\n",
        "  backtest_df['daily_return']=backtest_df['Close'].pct_change()\n",
        "\n",
        "  #calculate strategy returns (shift returns by 1 day to avoid look-ahead bias)\n",
        "  backtest_df['strategy_return']=backtest_df['daily_return']*backtest_df['signal'].shift(1)\n",
        "\n",
        "  #calculate cummulative returns\n",
        "  #cumprod returns dataframe with cummulative product\n",
        "  backtest_df['cumulative_market']=(1+backtest_df['daily_return']).cumprod()\n",
        "  backtest_df['cumulative_strategy']=(1+backtest_df['strategy_return']).cumprod()\n",
        "\n",
        "  #calculate portfolio value\n",
        "  backtest_df['portfolio_value']=initial_capital*backtest_df['cumulative_strategy']\n",
        "\n",
        "  return backtest_df\n",
        "\n",
        "backtest_results=backtest_strategy(strategy_df)\n",
        "print('\\n Backtest result summary:\\n')\n",
        "print(f\"Final portfolio Value :${backtest_results['portfolio_value'].iloc[-1]:.2f}\")\n",
        "print(f\"Total return strategy: {(backtest_results['cumulative_strategy'].iloc[-1]-1)*100:.2f}%\")\n",
        "print(f\"Total return strategy: {(backtest_results['cumulative_market'].iloc[-1]-1)*100:.2f}%\")"
      ],
      "metadata": {
        "colab": {
          "base_uri": "https://localhost:8080/"
        },
        "id": "eB-gunz_KDLW",
        "outputId": "d2108920-0653-476a-f495-7c120e3126e8"
      },
      "execution_count": 39,
      "outputs": [
        {
          "output_type": "stream",
          "name": "stdout",
          "text": [
            "\n",
            " Backtest result summary:\n",
            "\n",
            "Final portfolio Value :$11728.02\n",
            "Total return strategy: 17.28%\n",
            "Total return strategy: 285.78%\n"
          ]
        }
      ]
    },
    {
      "cell_type": "code",
      "source": [
        "def plot_results(df):\n",
        "  '''\n",
        "  Plot backtesting results\n",
        "  '''\n",
        "  plt.figure(figsize=(14,10))\n",
        "\n",
        "  plt.subplots(1,1)\n",
        "  plt.plot(df['Close'],label='Price')\n",
        "  plt.plot(df['short_ma'],label='50-day MA')\n",
        "  plt.plot(df['long_ma'],label='200-day MA')\n",
        "\n",
        "  #plot buy signals\n",
        "  plt.plot(df[df['position']>0].index,\n",
        "           df['short_ma'][df['position']>0],\n",
        "           '^',markersize=10,color='g',label='Buy'\n",
        "           )\n",
        "\n",
        "  #plot sell signals\n",
        "  plt.plot(df[df['position']<0].index,df['short_ma'][df['position']<0],\n",
        "           'v',markersize=10,color='r',label='Sell')\n",
        "\n",
        "  plt.title('Moving Average Crossover Strategy')\n",
        "  plt.legend()\n",
        "  plt.grid()\n",
        "\n",
        "  plt.plot(df['portfolio_value'],label='Strategy',color='b')\n",
        "  plt.plot(df['Close']/df['Close'].iloc[0]*10000, label='Buy & Hold',alpha=0.5,color='orange')\n",
        "  plt.title('Portfolio Value Comparison')\n",
        "  plt.xlabel('Date')\n",
        "  plt.ylabel('Portfolio Value ($)')\n",
        "  plt.legend()\n",
        "  plt.grid()\n",
        "  plt.tight_layout()\n",
        "  plt.show()\n",
        "\n",
        "print(backtest_results.shape)\n",
        "plot_results(backtest_results)"
      ],
      "metadata": {
        "colab": {
          "base_uri": "https://localhost:8080/",
          "height": 523
        },
        "id": "uxEYPmUGJzVD",
        "outputId": "8f4554c1-d9e9-4c32-b95d-c3a607a9b5ba"
      },
      "execution_count": 52,
      "outputs": [
        {
          "output_type": "stream",
          "name": "stdout",
          "text": [
            "(2569, 14)\n"
          ]
        },
        {
          "output_type": "display_data",
          "data": {
            "text/plain": [
              "<Figure size 1400x1000 with 0 Axes>"
            ]
          },
          "metadata": {}
        },
        {
          "output_type": "display_data",
          "data": {
            "text/plain": [
              "<Figure size 640x480 with 1 Axes>"
            ],
            "image/png": "[encoded data removed]"
          },
          "metadata": {}
        }
      ]
    },
    {
      "cell_type": "markdown",
      "source": [
        "The annualized return, Sharpe ratio, volatility, and drawdown are all important metrics for evaluating investment performance. Annualized return represents the average yearly return of an investment over a specific period. The Sharpe ratio measures risk-adjusted return, indicating how much excess return is generated per unit of risk. Volatility, often measured by standard deviation, quantifies the fluctuation of returns. Drawdown, particularly maximum drawdown, represents the largest peak-to-trough decline in an investment's value."
      ],
      "metadata": {
        "id": "b4G7u7WXnLq8"
      }
    },
    {
      "cell_type": "code",
      "source": [
        "def calculate_metrics(df):\n",
        "  #calculate key performance metrics\n",
        "  #Anualized return\n",
        "  annualized_return=(df['cumulative_strategy'].iloc[-1]**(252/len(df))-1)*100\n",
        "\n",
        "  #volatibilty\n",
        "  volatibilty=df['strategy_return'].std()*np.sqrt(252)*100\n",
        "\n",
        "  #sharpe ratio (assuming 0% risk free rate)\n",
        "  sharpe=annualized_return/volatibilty\n",
        "\n",
        "  #max drawdown\n",
        "  cumulative_max=df['cumulative_strategy'].cummax()\n",
        "  drawdown=(df['cumulative_strategy']-cumulative_max)/cumulative_max\n",
        "  max_drawdown=drawdown.min()*100\n",
        "\n",
        "  print('\\nPerformace Metrics:\\n')\n",
        "  print(f'Annualized Return: {annualized_return:.2f}%')\n",
        "  print(f'max draw down: {max_drawdown}')\n",
        "  print(f'Sharped ration: {sharpe}')\n",
        "  print(f'cummulative_max: {cumulative_max}')\n",
        "\n",
        "calculate_metrics(backtest_results)"
      ],
      "metadata": {
        "colab": {
          "base_uri": "https://localhost:8080/"
        },
        "id": "EgoaaBetIalF",
        "outputId": "222aacac-4a37-42e3-b903-ad39d45275b5"
      },
      "execution_count": 54,
      "outputs": [
        {
          "output_type": "stream",
          "name": "stdout",
          "text": [
            "\n",
            "Performace Metrics:\n",
            "\n",
            "Annualized Return: 1.58%\n",
            "max draw down: -40.12370177640879\n",
            "Sharped ration: 0.09201092960023718\n",
            "cummulative_max: Date\n",
            "2010-10-18         NaN\n",
            "2010-10-19    0.986896\n",
            "2010-10-20    0.996534\n",
            "2010-10-21    0.998732\n",
            "2010-10-22    1.000592\n",
            "                ...   \n",
            "2020-12-23    1.638631\n",
            "2020-12-24    1.638631\n",
            "2020-12-28    1.638631\n",
            "2020-12-29    1.638631\n",
            "2020-12-30    1.638631\n",
            "Name: cumulative_strategy, Length: 2569, dtype: float64\n"
          ]
        }
      ]
    },
    {
      "cell_type": "code",
      "source": [
        "'''!wget http://prdownloads.sourceforge.net/ta-lib/ta-lib-0.4.0-src.tar.gz\n",
        "!tar -xvzf ta-lib-0.4.0-src.tar.gz\n",
        "%cd ta-lib\n",
        "!./configure --prefix=/usr\n",
        "!make\n",
        "!make install\n",
        "%cd ..\n",
        "!pip install TA-Lib\n",
        "'''"
      ],
      "metadata": {
        "colab": {
          "base_uri": "https://localhost:8080/",
          "height": 53
        },
        "id": "jSQU3gAg9vPL",
        "outputId": "83f98234-d8dd-4a99-eb03-8e773a19dc1e"
      },
      "execution_count": 40,
      "outputs": [
        {
          "output_type": "execute_result",
          "data": {
            "text/plain": [
              "'!wget http://prdownloads.sourceforge.net/ta-lib/ta-lib-0.4.0-src.tar.gz\\n!tar -xvzf ta-lib-0.4.0-src.tar.gz\\n%cd ta-lib\\n!./configure --prefix=/usr\\n!make\\n!make install\\n%cd ..\\n!pip install TA-Lib\\n'"
            ],
            "application/vnd.google.colaboratory.intrinsic+json": {
              "type": "string"
            }
          },
          "metadata": {},
          "execution_count": 40
        }
      ]
    }
  ]
}